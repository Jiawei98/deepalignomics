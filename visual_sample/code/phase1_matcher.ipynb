{
 "cells": [
  {
   "cell_type": "code",
   "execution_count": 1,
   "metadata": {},
   "outputs": [],
   "source": [
    "%matplotlib inline\n",
    "%config InlineBackend.figure_format = 'png'\n",
    "import matplotlib\n",
    "import matplotlib.pyplot as plt\n",
    "import numpy as np\n",
    "from pymatcher import matcher\n",
    "import pandas as pd\n",
    "from sklearn import preprocessing"
   ]
  },
  {
   "cell_type": "code",
   "execution_count": 2,
   "metadata": {},
   "outputs": [
    {
     "name": "stdout",
     "output_type": "stream",
     "text": [
      "Shape of geneExp:  (1000, 3654)\n",
      "Shape of Efeature:  (3654, 41)\n"
     ]
    }
   ],
   "source": [
    "Efeature = pd.read_csv('../data/efeature_filtered.csv',index_col=0)\n",
    "geneExp = pd.read_csv('../data/expMat_filtered.csv',index_col=0)\n",
    "label = pd.read_csv('../data/label_visual.csv')\n",
    "print('Shape of geneExp: ', geneExp.shape)\n",
    "print('Shape of Efeature: ', Efeature.shape)\n",
    "\n",
    "x1_np = np.log(geneExp+1).to_numpy()\n",
    "x2_np = preprocessing.scale(Efeature.T.to_numpy(),axis=0)\n",
    "\n",
    "data = [x1_np,x2_np]"
   ]
  },
  {
   "cell_type": "code",
   "execution_count": null,
   "metadata": {},
   "outputs": [
    {
     "data": {
      "application/vnd.jupyter.widget-view+json": {
       "model_id": "7f50a316b1ed4a0e8418cad655d6b464",
       "version_major": 2,
       "version_minor": 0
      },
      "text/plain": [
       "HBox(children=(VBox(children=(IntProgress(value=0, max=1000), HTML(value=''))), Box(children=(HTML(value=''),)…"
      ]
     },
     "metadata": {},
     "output_type": "display_data"
    }
   ],
   "source": [
    "m = matcher.MATCHER(data)\n",
    "m.infer()"
   ]
  },
  {
   "cell_type": "code",
   "execution_count": 37,
   "metadata": {},
   "outputs": [],
   "source": [
    "latent = [[i[0] for i in m.model[0].latent_space.mean.tolist()] +\n",
    "           [i[0] for i in m.model[1].latent_space.mean.tolist()],\n",
    "          [i[0] for i in m.master_time[0].tolist()] +\n",
    "           [i[0] for i in m.master_time[1].tolist()]]"
   ]
  },
  {
   "cell_type": "code",
   "execution_count": 42,
   "metadata": {},
   "outputs": [],
   "source": [
    "np.savetxt(\"../data/matcher_latent.csv\",np.array(latent).T,delimiter=\",\")"
   ]
  },
  {
   "cell_type": "code",
   "execution_count": null,
   "metadata": {},
   "outputs": [],
   "source": []
  }
 ],
 "metadata": {
  "kernelspec": {
   "display_name": "Python 3",
   "language": "python",
   "name": "python3"
  },
  "language_info": {
   "codemirror_mode": {
    "name": "ipython",
    "version": 3
   },
   "file_extension": ".py",
   "mimetype": "text/x-python",
   "name": "python",
   "nbconvert_exporter": "python",
   "pygments_lexer": "ipython3",
   "version": "3.8.5"
  }
 },
 "nbformat": 4,
 "nbformat_minor": 4
}

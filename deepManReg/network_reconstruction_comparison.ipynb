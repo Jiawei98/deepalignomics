{
 "cells": [
  {
   "cell_type": "code",
   "execution_count": null,
   "id": "88ad3844-63cc-45c3-82e8-3c06ac9f718e",
   "metadata": {
    "tags": []
   },
   "outputs": [],
   "source": [
    "from mvlearn.datasets import load_UCImultifeature\n",
    "import pandas as pd\n",
    "import numpy as np\n",
    "from matplotlib import pyplot\n",
    "\n",
    "\n",
    "# import warnings filter\n",
    "from warnings import simplefilter\n",
    "# ignore all future warnings\n",
    "simplefilter(action='ignore', category=FutureWarning)\n",
    "\n",
    "from alignment import (\n",
    "    TrivialAlignment, Affine, Procrustes, CCA, CCAv2,\n",
    "    ManifoldLinear, manifold_nonlinear)\n",
    "from correspondence import Correspondence\n",
    "from distance import SquaredL2, L1, SparseL2\n",
    "from neighborhood import neighbor_graph, laplacian\n",
    "from synthetic_data import swiss_roll, add_noise, spiral, cylinder\n",
    "from util import pairwise_error, Timer\n",
    "from viz import show_alignment\n",
    "\n",
    "import sklearn\n",
    "\n",
    "from stiefel import *\n",
    "\n",
    "import torch\n",
    "import torch.nn as nn\n",
    "import torch.nn.functional as F\n",
    "torch.set_default_tensor_type('torch.DoubleTensor')\n",
    "torch.manual_seed(1)"
   ]
  },
  {
   "cell_type": "code",
   "execution_count": 27,
   "id": "649e2df5-c8b7-4ccc-a0af-4c62817144d6",
   "metadata": {},
   "outputs": [],
   "source": [
    "X = np.loadtxt('../../dyngen_manuscript/X.csv', delimiter=',', skiprows=1, usecols=range(1,6)).T\n",
    "Y = np.loadtxt('../../dyngen_manuscript/Y.csv', delimiter=',', skiprows=1, usecols=range(1,6)).T"
   ]
  },
  {
   "cell_type": "code",
   "execution_count": 59,
   "id": "e17e416a-5939-4b54-bebf-edf54712ccf5",
   "metadata": {
    "jupyter": {
     "source_hidden": true
    },
    "tags": []
   },
   "outputs": [],
   "source": [
    "\"\"\"Defines the neural network\"\"\"\n",
    "\n",
    "class Net(nn.Module):\n",
    "    def __init__(self, D_in, H1, H2, D_out):\n",
    "        super(Net, self).__init__()\n",
    "        self.linear1 = torch.nn.Linear(D_in, H1)\n",
    "        self.linear2 = torch.nn.Linear(H1, H2)\n",
    "        self.linear3 = torch.nn.Linear(H2, D_out)\n",
    "\n",
    "    def forward(self, x):\n",
    "        h1_sigmoid = self.linear1(x).sigmoid()\n",
    "        h2_sigmoid = self.linear2(h1_sigmoid).sigmoid()\n",
    "        y_pred = self.linear3(h2_sigmoid)\n",
    "        return y_pred"
   ]
  },
  {
   "cell_type": "code",
   "execution_count": 60,
   "id": "c66f4b2e-e19d-4c70-a243-220b49c24640",
   "metadata": {
    "jupyter": {
     "source_hidden": true
    },
    "tags": []
   },
   "outputs": [],
   "source": [
    "# data, labels = load_UCImultifeature()\n",
    "# m_data = data[:2]"
   ]
  },
  {
   "cell_type": "code",
   "execution_count": 5,
   "id": "e94f6a98-d40b-4fb0-83c3-eb4924addd19",
   "metadata": {
    "jupyter": {
     "source_hidden": true
    },
    "tags": []
   },
   "outputs": [],
   "source": [
    "# D_in is input dimension;\n",
    "# H is hidden dimension; D_out is output dimension.\n",
    "N1, N2, D_in, H1, H2, D_out = m_data[0].shape[1], m_data[1].shape[1], m_data[0].shape[0], 500, 100, 2\n",
    "\n",
    "# Construct our model by instantiating the class defined above.\n",
    "model = Net(D_in, H1, H2, D_out)"
   ]
  },
  {
   "cell_type": "code",
   "execution_count": 28,
   "id": "32b4c9ed-5aa7-4e6b-b983-3787e9c975f6",
   "metadata": {},
   "outputs": [],
   "source": [
    "# Create random Tensors to hold the 2 inputs\n",
    "# x1 = torch.from_numpy(m_data[0]).T\n",
    "# x2 = torch.from_numpy(m_data[1]).T\n",
    "\n",
    "# x1_np = x1.numpy()\n",
    "# x2_np = x2.numpy()\n",
    "\n",
    "x1_np = X\n",
    "x2_np = Y\n",
    "\n",
    "adj1 = neighbor_graph(x1_np, k=50)\n",
    "adj2 = neighbor_graph(x2_np, k=50)\n",
    "\n",
    "# corr = Correspondence(matrix=np.ones((76, 216)))\n",
    "corr = Correspondence(matrix=np.eye(5))\n",
    "\n",
    "w = np.block([[corr.matrix(),adj1],\n",
    "              [adj2, corr.matrix().T]])\n",
    "\n",
    "L_np = laplacian(w, normed=True)\n",
    "L = torch.from_numpy(L_np)"
   ]
  },
  {
   "cell_type": "code",
   "execution_count": 51,
   "id": "7793f089-c1ea-4a07-bf69-c75c7b11b4cd",
   "metadata": {
    "jupyter": {
     "source_hidden": true
    },
    "tags": []
   },
   "outputs": [
    {
     "data": {
      "text/plain": [
       "(150, 5)"
      ]
     },
     "execution_count": 51,
     "metadata": {},
     "output_type": "execute_result"
    }
   ],
   "source": [
    "X.shape"
   ]
  },
  {
   "cell_type": "code",
   "execution_count": 16,
   "id": "6e240cbd-c186-412a-9694-523d96022a6d",
   "metadata": {
    "collapsed": true,
    "jupyter": {
     "outputs_hidden": {
      "outputs_hidden": true,
      "source_hidden": true
     },
     "source_hidden": true
    },
    "tags": []
   },
   "outputs": [
    {
     "name": "stdout",
     "output_type": "stream",
     "text": [
      "0 0.9380916561650837\n",
      "1 0.9378541441537782\n",
      "2 0.937611307227646\n",
      "3 0.9373628484559391\n",
      "4 0.937111757128064\n",
      "5 0.9368650240291232\n",
      "6 0.9366308611667606\n",
      "7 0.9364139738481956\n",
      "8 0.9362140372067825\n",
      "9 0.936027984438808\n"
     ]
    }
   ],
   "source": [
    "# Construct an Optimizer\n",
    "optimizer = torch.optim.SGD(model.parameters(), lr = 0.000001)\n",
    "# optimizer = torch.optim.Adam(net.parameters(), lr=0.001, betas=(0.9, 0.999))\n",
    "\n",
    "# loss = 10\n",
    "# while loss > 5:\n",
    "for t in range(10):\n",
    "    # Forward pass: Compute predicted y by passing x to the model\n",
    "    y1_pred = model(x1)\n",
    "    y2_pred = model(x2)\n",
    "    \n",
    "    outputs = torch.cat((y1_pred, y2_pred), 0)\n",
    "    \n",
    "    # Project the output onto Stiefel Manifold\n",
    "    u, s, v = torch.svd(outputs, some=True)\n",
    "    proj_outputs = u@v.t()\n",
    "    \n",
    "    # Compute and print loss\n",
    "    loss = torch.trace(proj_outputs.t()@L@proj_outputs)\n",
    "    print(t, loss.item())\n",
    "\n",
    "    # Zero gradients, perform a backward pass, and update the weights.\n",
    "    proj_outputs.retain_grad()\n",
    "    \n",
    "    optimizer.zero_grad()\n",
    "    loss.backward(retain_graph=True)\n",
    "    \n",
    "    # Project the (Euclidean) gradient onto the tangent space of Stiefel Manifold (to get Rimannian gradient)\n",
    "    rgrad = proj_stiefel(proj_outputs, proj_outputs.grad) \n",
    "    \n",
    "    optimizer.zero_grad()\n",
    "    # Backpropogate the Rimannian gradient w.r.t proj_outputs\n",
    "    proj_outputs.backward(rgrad)\n",
    "    \n",
    "    optimizer.step()"
   ]
  },
  {
   "cell_type": "code",
   "execution_count": 18,
   "id": "2ed53d98-5bf8-49f9-bfc9-d02a30fb20d9",
   "metadata": {
    "collapsed": true,
    "jupyter": {
     "outputs_hidden": {
      "outputs_hidden": true,
      "source_hidden": true
     },
     "source_hidden": true
    },
    "tags": []
   },
   "outputs": [
    {
     "data": {
      "image/png": "[encoded data removed]",
      "text/plain": [
       "<Figure size 432x288 with 1 Axes>"
      ]
     },
     "metadata": {
      "needs_background": "light"
     },
     "output_type": "display_data"
    }
   ],
   "source": [
    "%matplotlib inline\n",
    "import matplotlib.pyplot as plt\n",
    "from viz import show_alignment\n",
    "\n",
    "show_alignment(proj_outputs.detach().numpy()[76:], proj_outputs.detach().numpy()[:216],\n",
    "              titX='Fouriere coeff',titY='profile corr',title='deepManReg')\n",
    "plt.savefig(\"scatter_deepmanreg.svg\")"
   ]
  },
  {
   "cell_type": "code",
   "execution_count": 19,
   "id": "9d966d57-0423-4f77-bf8f-86221608e36b",
   "metadata": {
    "collapsed": true,
    "jupyter": {
     "outputs_hidden": {
      "outputs_hidden": true,
      "source_hidden": true
     },
     "source_hidden": true
    },
    "tags": []
   },
   "outputs": [
    {
     "name": "stdout",
     "output_type": "stream",
     "text": [
      " sum sq. error = 56.853245310483366\n"
     ]
    }
   ],
   "source": [
    "print(' sum sq. error =', pairwise_error(proj_outputs.detach().numpy()[76:], proj_outputs.detach().numpy()[:216], metric=SquaredL2))"
   ]
  },
  {
   "cell_type": "code",
   "execution_count": 43,
   "id": "aebb9553-125a-43b6-b576-2bdbd70b144a",
   "metadata": {},
   "outputs": [],
   "source": [
    "# X = m_data[0].T\n",
    "# Y = m_data[1].T\n",
    "\n",
    "Wx = neighbor_graph(X, k=50)\n",
    "Wy = neighbor_graph(Y, k=50)\n",
    "\n",
    "d = 2"
   ]
  },
  {
   "cell_type": "code",
   "execution_count": 225,
   "id": "0845469c-22b6-4cf8-8592-84535a40ee0a",
   "metadata": {},
   "outputs": [
    {
     "name": "stdout",
     "output_type": "stream",
     "text": [
      "linear manifold aln : 0.139 seconds\n",
      " sum sq. error = 6.967728163797501e-28\n"
     ]
    },
    {
     "data": {
      "image/png": "[encoded data removed]",
      "text/plain": [
       "<Figure size 432x288 with 1 Axes>"
      ]
     },
     "metadata": {
      "needs_background": "light"
     },
     "output_type": "display_data"
    }
   ],
   "source": [
    "  lin_aligners = (\n",
    "#     ('cca',              lambda: CCA(X,Y,corr,d)),\n",
    "    ('linear manifold aln',  lambda: ManifoldLinear(X,Y,corr,d,Wx,Wy)),\n",
    "  )\n",
    "\n",
    "  latent = []\n",
    "\n",
    "  other_aligners = (\n",
    "#     ('dtw', lambda: (X, dtw(X,Y).warp(X))),\n",
    "#     ('nonlinear manifold aln',\n",
    "#      lambda: manifold_nonlinear(X,Y,corr,d,Wx,Wy)),\n",
    "#     ('nonlinear manifold warp',\n",
    "#      lambda: manifold_warping_nonlinear(X,Y,d,Wx,Wy)[1:]),\n",
    "  )\n",
    "\n",
    "  for name, aln in lin_aligners:\n",
    "    pyplot.figure()\n",
    "    with Timer(name):\n",
    "      Xnew,Ynew = aln().project(X, Y)\n",
    "    print(' sum sq. error =', pairwise_error(Xnew, Ynew, metric=SquaredL2))\n",
    "    show_alignment(Xnew,Ynew,titX='Fouriere coeff',titY='profile corr',title=name)\n",
    "    plt.savefig(\"scatter_cca_.svg\")\n",
    "    latent.append(np.concatenate((Xnew, Ynew)))\n",
    "    \n",
    "  for name, aln in other_aligners:\n",
    "    pyplot.figure()\n",
    "    with Timer(name):\n",
    "      Xnew,Ynew = aln()\n",
    "    print (' sum sq. error =', pairwise_error(Xnew, Ynew, metric=SquaredL2))\n",
    "    show_alignment(Xnew, Ynew, '')\n",
    "\n",
    "  pyplot.show()"
   ]
  },
  {
   "cell_type": "code",
   "execution_count": null,
   "id": "9c2dcb1b-dca5-4881-bd03-a06991d34f50",
   "metadata": {},
   "outputs": [],
   "source": []
  },
  {
   "cell_type": "code",
   "execution_count": 98,
   "id": "cf122395-5ad9-4866-a7b3-cfc5c7c2408c",
   "metadata": {},
   "outputs": [
    {
     "data": {
      "image/png": "[encoded data removed]",
      "text/plain": [
       "<Figure size 432x288 with 1 Axes>"
      ]
     },
     "metadata": {
      "needs_background": "light"
     },
     "output_type": "display_data"
    }
   ],
   "source": [
    "n = ['A','B','C','D','E']\n",
    "\n",
    "fig, ax = pyplot.subplots()\n",
    "# fig = pyplot.figure()\n",
    "# ax = fig.add_subplot(projection='3d')\n",
    "ax.scatter(Xnew.T[0], Xnew.T[1])\n",
    "\n",
    "for i, txt in enumerate(n):\n",
    "    ax.annotate(txt, (Xnew.T[0][i], Xnew.T[1][i]))"
   ]
  },
  {
   "cell_type": "code",
   "execution_count": 52,
   "id": "6c64b73a-d70f-4621-8ffe-41c7bcd77455",
   "metadata": {},
   "outputs": [
    {
     "data": {
      "application/vnd.jupyter.widget-view+json": {
       "model_id": "7ae43b5427444fa49129be2e508aa0f7",
       "version_major": 2,
       "version_minor": 0
      },
      "text/plain": [
       "HBox(children=(VBox(children=(IntProgress(value=0, max=1000), HTML(value=''))), Box(children=(HTML(value=''),)…"
      ]
     },
     "metadata": {},
     "output_type": "display_data"
    },
    {
     "data": {
      "application/vnd.jupyter.widget-view+json": {
       "model_id": "63e92d685fb74f2f8fe339f2bcd89078",
       "version_major": 2,
       "version_minor": 0
      },
      "text/plain": [
       "HBox(children=(VBox(children=(IntProgress(value=0, max=1000), HTML(value=''))), Box(children=(HTML(value=''),)…"
      ]
     },
     "metadata": {},
     "output_type": "display_data"
    }
   ],
   "source": [
    "%config InlineBackend.figure_format = 'png'\n",
    "import matplotlib.pyplot as plt\n",
    "from pymatcher import matcher\n",
    "\n",
    "data = [x1_np,x2_np]\n",
    "\n",
    "m = matcher.MATCHER(data)\n",
    "m.infer()\n",
    "\n",
    "latent_matcher = [[i[0] for i in m.model[0].latent_space.mean.tolist()] +\n",
    "           [i[0] for i in m.model[1].latent_space.mean.tolist()],\n",
    "          [i[0] for i in m.master_time[0].tolist()] +\n",
    "           [i[0] for i in m.master_time[1].tolist()]]\n",
    "\n",
    "np.savetxt(\"matcher_latent.csv\",np.array(latent_matcher).T,delimiter=\",\")"
   ]
  },
  {
   "cell_type": "code",
   "execution_count": 14,
   "id": "e4de6bb4-88a8-45d5-9152-a76cf8c73069",
   "metadata": {},
   "outputs": [],
   "source": [
    "# matcher_latent = pd.read_csv(\"matcher_latent.csv\", header=None).to_numpy()"
   ]
  },
  {
   "cell_type": "code",
   "execution_count": 15,
   "id": "187fc5fc-577f-45d0-8314-8b5f86665bd3",
   "metadata": {},
   "outputs": [],
   "source": [
    "cca_latent = latent[0]\n",
    "ma_latent = latent[1]\n",
    "\n",
    "np.savetxt(\"cca_latent1.csv\",cca_latent,delimiter=\",\")\n",
    "np.savetxt(\"ma_latent1.csv\",ma_latent,delimiter=\",\")"
   ]
  },
  {
   "cell_type": "code",
   "execution_count": 16,
   "id": "526cf77e-2532-4a05-b9c2-0699ea9c45b6",
   "metadata": {
    "jupyter": {
     "source_hidden": true
    },
    "tags": []
   },
   "outputs": [],
   "source": [
    "# # D_in is input dimension;\n",
    "# # H is hidden dimension; D_out is output dimension.\n",
    "# N1, N2, D_in, H1, H2, D_out = m_data[0].shape[1], m_data[1].shape[1], m_data[0].shape[0], 500, 100, 10\n",
    "\n",
    "# # Construct our model by instantiating the class defined above.\n",
    "# model = Net(D_in, H1, H2, D_out)\n",
    "\n",
    "# # Construct an Optimizer\n",
    "# optimizer = torch.optim.SGD(model.parameters(), lr = 0.000001)\n",
    "# # optimizer = torch.optim.Adam(net.parameters(), lr=0.001, betas=(0.9, 0.999))\n",
    "\n",
    "# # loss = 10\n",
    "# # while loss > 5:\n",
    "# for t in range(100):\n",
    "#     # Forward pass: Compute predicted y by passing x to the model\n",
    "#     y1_pred = model(x1)\n",
    "#     y2_pred = model(x2)\n",
    "    \n",
    "#     outputs = torch.cat((y1_pred, y2_pred), 0)\n",
    "    \n",
    "#     # Project the output onto Stiefel Manifold\n",
    "#     u, s, v = torch.svd(outputs, some=True)\n",
    "#     proj_outputs = u@v.t()\n",
    "    \n",
    "#     # Compute and print loss\n",
    "#     loss = torch.trace(proj_outputs.t()@L@proj_outputs)\n",
    "#     print(t, loss.item())\n",
    "\n",
    "#     # Zero gradients, perform a backward pass, and update the weights.\n",
    "#     proj_outputs.retain_grad()\n",
    "    \n",
    "#     optimizer.zero_grad()\n",
    "#     loss.backward(retain_graph=True)\n",
    "    \n",
    "#     # Project the (Euclidean) gradient onto the tangent space of Stiefel Manifold (to get Rimannian gradient)\n",
    "#     rgrad = proj_stiefel(proj_outputs, proj_outputs.grad) \n",
    "    \n",
    "#     optimizer.zero_grad()\n",
    "#     # Backpropogate the Rimannian gradient w.r.t proj_outputs\n",
    "#     proj_outputs.backward(rgrad)\n",
    "    "
   ]
  },
  {
   "cell_type": "code",
   "execution_count": 17,
   "id": "5bb2a697-8953-4875-a3d8-22c7d24aa541",
   "metadata": {},
   "outputs": [],
   "source": [
    "np.savetxt(\"deep_latent.csv\",proj_outputs.detach().numpy(),delimiter=\",\")"
   ]
  },
  {
   "cell_type": "code",
   "execution_count": 16,
   "id": "abcc77ab-f6b7-4cc7-983b-a660e23db21b",
   "metadata": {},
   "outputs": [],
   "source": [
    "# proj_outputs.detach().numpy().shape"
   ]
  },
  {
   "cell_type": "code",
   "execution_count": 53,
   "id": "30abb664-df9b-4a27-a706-b1483cdbb1e2",
   "metadata": {},
   "outputs": [],
   "source": [
    "from numpy import genfromtxt\n",
    "my_data = genfromtxt('matcher_latent.csv', delimiter=',')"
   ]
  },
  {
   "cell_type": "code",
   "execution_count": 58,
   "id": "257b4550-1f1f-4853-a773-6e60521ca1c2",
   "metadata": {},
   "outputs": [
    {
     "data": {
      "text/plain": [
       "(10, 2)"
      ]
     },
     "execution_count": 58,
     "metadata": {},
     "output_type": "execute_result"
    }
   ],
   "source": [
    "my_data.shape"
   ]
  },
  {
   "cell_type": "code",
   "execution_count": null,
   "id": "b63c34be-4fbb-4440-bd27-b617ae218798",
   "metadata": {},
   "outputs": [],
   "source": [
    "import matplotlib.pyplot as plt\n",
    "\n",
    "show_alignment(my_data[5:], my_data[:5],\n",
    "              titX='Fouriere coeff',titY='profile corr',title='MATCHER')\n",
    "plt.savefig(\"scatter_MATCHer.svg\")\n",
    "\n",
    "print(' sum sq. error =', pairwise_error(my_data[76:], my_data[:216], metric=SquaredL2))"
   ]
  },
  {
   "cell_type": "code",
   "execution_count": 67,
   "id": "b7166dd2-fac8-4607-8ba6-f95e9fbff92f",
   "metadata": {},
   "outputs": [
    {
     "data": {
      "image/png": "[encoded data removed]",
      "text/plain": [
       "<Figure size 432x288 with 1 Axes>"
      ]
     },
     "metadata": {
      "needs_background": "light"
     },
     "output_type": "display_data"
    }
   ],
   "source": [
    "n = ['A','B','C','D','E']\n",
    "\n",
    "fig, ax = pyplot.subplots()\n",
    "# fig = pyplot.figure()\n",
    "# ax = fig.add_subplot(projection='3d')\n",
    "ax.scatter(my_data[:5].T[0], my_data[:5].T[1])\n",
    "\n",
    "for i, txt in enumerate(n):\n",
    "    ax.annotate(txt, (my_data[:5].T[0][i], my_data[:5].T[1][i]))"
   ]
  },
  {
   "cell_type": "code",
   "execution_count": 68,
   "id": "7ee867cc-7206-4436-8844-ad8b23d0f7e4",
   "metadata": {},
   "outputs": [],
   "source": [
    "O = np.matrix('0 0 1 1 0; 0 0 0 1 1; 1 0 0 0 1; 1 1 0 0 0; 0 1 1 0 0') "
   ]
  },
  {
   "cell_type": "code",
   "execution_count": 69,
   "id": "098beba0-94a6-4ee7-9bd4-0e8ff9292f6c",
   "metadata": {},
   "outputs": [
    {
     "data": {
      "text/plain": [
       "matrix([[0, 0, 1, 1, 0],\n",
       "        [0, 0, 0, 1, 1],\n",
       "        [1, 0, 0, 0, 1],\n",
       "        [1, 1, 0, 0, 0],\n",
       "        [0, 1, 1, 0, 0]])"
      ]
     },
     "execution_count": 69,
     "metadata": {},
     "output_type": "execute_result"
    }
   ],
   "source": [
    "O"
   ]
  },
  {
   "cell_type": "code",
   "execution_count": 226,
   "id": "5fedf7a4-2cb6-4882-b865-371a75f2914a",
   "metadata": {},
   "outputs": [],
   "source": [
    "Xnew_dist = sklearn.metrics.pairwise_distances(Xnew)\n",
    "Ynew_dist = sklearn.metrics.pairwise_distances(Ynew)\n",
    "\n",
    "# Xnew_dist = (abs(Xnew_dist) - np.min(abs(Xnew_dist)))/np.ptp(abs(Xnew_dist))\n",
    "# Ynew_dist = (abs(Ynew_dist) - np.min(abs(Ynew_dist)))/np.ptp(abs(Ynew_dist))\n",
    "\n",
    "Xnew_dist = neighbor_graph(Xnew_dist, k=2)\n",
    "Ynew_dist = neighbor_graph(Ynew_dist, k=2)"
   ]
  },
  {
   "cell_type": "code",
   "execution_count": 188,
   "id": "6aa8226a-f638-43e2-b11e-2889c19aed73",
   "metadata": {},
   "outputs": [
    {
     "data": {
      "text/plain": [
       "matrix([[1, 1, 0, 0, 1],\n",
       "        [1, 1, 1, 0, 0],\n",
       "        [0, 1, 1, 1, 0],\n",
       "        [0, 0, 1, 1, 1],\n",
       "        [1, 0, 0, 1, 1]])"
      ]
     },
     "execution_count": 188,
     "metadata": {},
     "output_type": "execute_result"
    }
   ],
   "source": [
    "1-O"
   ]
  },
  {
   "cell_type": "code",
   "execution_count": 216,
   "id": "cff323ad-07b3-471f-b42f-3b9c392715e0",
   "metadata": {},
   "outputs": [
    {
     "data": {
      "text/plain": [
       "array([[ 0., -1.,  0.,  0., -1.],\n",
       "       [-1.,  0.,  0.,  0.,  1.],\n",
       "       [ 0.,  0.,  0.,  1.,  0.],\n",
       "       [ 0.,  0.,  1.,  0.,  1.],\n",
       "       [-1.,  1.,  0.,  1.,  0.]])"
      ]
     },
     "execution_count": 216,
     "metadata": {},
     "output_type": "execute_result"
    }
   ],
   "source": [
    "Xnew_dist - Ynew_dist"
   ]
  },
  {
   "cell_type": "code",
   "execution_count": 227,
   "id": "4437b4a5-b8d0-42f1-a741-631ecff9d487",
   "metadata": {},
   "outputs": [],
   "source": [
    "lma_dist = abs(Xnew_dist - O) + abs(Ynew_dist - O) + abs(Xnew_dist - Ynew_dist)\n",
    "# dmr_dist = np.corrcoef((Xnew_dist + Ynew_dist)/2, O)# + np.corrcoef(Ynew_dist, O)"
   ]
  },
  {
   "cell_type": "code",
   "execution_count": 229,
   "id": "323ed4ee-bde8-4705-9d79-87afbd83bd25",
   "metadata": {},
   "outputs": [
    {
     "data": {
      "text/plain": [
       "20.0"
      ]
     },
     "execution_count": 229,
     "metadata": {},
     "output_type": "execute_result"
    }
   ],
   "source": [
    "lma_dist.sum()"
   ]
  },
  {
   "cell_type": "code",
   "execution_count": 224,
   "id": "f87b524c-42a0-4244-afd7-8bf05f9a6812",
   "metadata": {},
   "outputs": [
    {
     "data": {
      "text/plain": [
       "24.0"
      ]
     },
     "execution_count": 224,
     "metadata": {},
     "output_type": "execute_result"
    }
   ],
   "source": [
    "cca_dist.sum()"
   ]
  },
  {
   "cell_type": "code",
   "execution_count": 218,
   "id": "7173edf2-b585-49a5-9e01-fdc28972717e",
   "metadata": {},
   "outputs": [
    {
     "data": {
      "text/plain": [
       "16.0"
      ]
     },
     "execution_count": 218,
     "metadata": {},
     "output_type": "execute_result"
    }
   ],
   "source": [
    "dmr_dist.sum()"
   ]
  },
  {
   "cell_type": "code",
   "execution_count": 217,
   "id": "2fe2191d-1671-44b9-ada0-8fedd80b285f",
   "metadata": {},
   "outputs": [
    {
     "data": {
      "text/plain": [
       "20.0"
      ]
     },
     "execution_count": 217,
     "metadata": {},
     "output_type": "execute_result"
    }
   ],
   "source": [
    "matcher_dist.sum()"
   ]
  },
  {
   "cell_type": "code",
   "execution_count": 99,
   "id": "95a7c3cf-d652-49ec-a6f6-9df57a9b7ea4",
   "metadata": {},
   "outputs": [],
   "source": [
    "lma_sig = np.array([44.48248988, 66.75598775])"
   ]
  },
  {
   "cell_type": "code",
   "execution_count": 117,
   "id": "0c8d7f54-3a26-4ef8-8a3e-f67afb43adf0",
   "metadata": {},
   "outputs": [
    {
     "data": {
      "text/plain": [
       "matrix([[ 0.        , 78.33304401,  0.        , 54.91180539, 21.42123861,\n",
       "          0.        , 99.39429527, 21.06125127, 44.48248988,  0.        ,\n",
       "         34.63830752, 41.69473648, 20.27349787, 66.75598775,  0.        ]])"
      ]
     },
     "execution_count": 117,
     "metadata": {},
     "output_type": "execute_result"
    }
   ],
   "source": [
    "lma_dist[np.tril_indices(5)]"
   ]
  },
  {
   "cell_type": "code",
   "execution_count": 118,
   "id": "eb2627b0-6ef7-45b8-9f2d-925bb1a2aab2",
   "metadata": {},
   "outputs": [],
   "source": [
    "lma_nonsig = np.array([78.33304401, 54.91180539, 21.42123861,\n",
    "          99.39429527, 21.06125127, 44.48248988,  \n",
    "         34.63830752, 41.69473648, 20.27349787, 66.75598775])"
   ]
  },
  {
   "cell_type": "code",
   "execution_count": 126,
   "id": "b954af7c-d7d4-4baa-8287-2d53df528f2c",
   "metadata": {},
   "outputs": [
    {
     "data": {
      "text/plain": [
       "{'whiskers': [<matplotlib.lines.Line2D at 0x15a5aebe0>,\n",
       "  <matplotlib.lines.Line2D at 0x15a5aef70>,\n",
       "  <matplotlib.lines.Line2D at 0x15a5bd550>,\n",
       "  <matplotlib.lines.Line2D at 0x15a5bd8e0>],\n",
       " 'caps': [<matplotlib.lines.Line2D at 0x15a593340>,\n",
       "  <matplotlib.lines.Line2D at 0x15a5936d0>,\n",
       "  <matplotlib.lines.Line2D at 0x15a5bdc70>,\n",
       "  <matplotlib.lines.Line2D at 0x15a5a9040>],\n",
       " 'boxes': [<matplotlib.lines.Line2D at 0x15a5ae850>,\n",
       "  <matplotlib.lines.Line2D at 0x15a5bd1c0>],\n",
       " 'medians': [<matplotlib.lines.Line2D at 0x15a593a60>,\n",
       "  <matplotlib.lines.Line2D at 0x15a5a93d0>],\n",
       " 'fliers': [<matplotlib.lines.Line2D at 0x15a593df0>,\n",
       "  <matplotlib.lines.Line2D at 0x15a5a9760>],\n",
       " 'means': []}"
      ]
     },
     "execution_count": 126,
     "metadata": {},
     "output_type": "execute_result"
    },
    {
     "data": {
      "image/png": "[encoded data removed]",
      "text/plain": [
       "<Figure size 432x288 with 1 Axes>"
      ]
     },
     "metadata": {
      "needs_background": "light"
     },
     "output_type": "display_data"
    }
   ],
   "source": [
    "fig, ax = pyplot.subplots()\n",
    "\n",
    "ax.boxplot([lma_sig, lma_nonsig])"
   ]
  },
  {
   "cell_type": "code",
   "execution_count": 127,
   "id": "f6e45712-4392-45d7-b847-b57cff3e8b31",
   "metadata": {},
   "outputs": [],
   "source": [
    "dmr_sig = np.array([1.25945676, 1.07151924])"
   ]
  },
  {
   "cell_type": "code",
   "execution_count": 128,
   "id": "b3144c2a-9463-46bb-9234-59c839f4922a",
   "metadata": {},
   "outputs": [
    {
     "data": {
      "text/plain": [
       "matrix([[0.        , 1.25945676, 0.        , 1.34083307, 1.66148935,\n",
       "         0.        , 0.38319128, 0.21636522, 2.26577011, 0.        ,\n",
       "         0.707985  , 1.09399043, 0.65117326, 1.07151924, 0.        ]])"
      ]
     },
     "execution_count": 128,
     "metadata": {},
     "output_type": "execute_result"
    }
   ],
   "source": [
    "dmr_dist[np.tril_indices(5)]"
   ]
  },
  {
   "cell_type": "code",
   "execution_count": 129,
   "id": "424c62f4-85b9-483e-8979-e3835f485d13",
   "metadata": {},
   "outputs": [],
   "source": [
    "dmr_nonsig = np.array([1.25945676      , 1.34083307, 1.66148935,\n",
    "         0.38319128, 0.21636522, 2.26577011, \n",
    "         0.707985  , 1.09399043, 0.65117326, 1.07151924])"
   ]
  },
  {
   "cell_type": "code",
   "execution_count": 215,
   "id": "c7081eee-c908-4c4a-9d2f-36c58e4472e1",
   "metadata": {},
   "outputs": [
    {
     "data": {
      "text/plain": [
       "<Figure size 432x288 with 0 Axes>"
      ]
     },
     "metadata": {},
     "output_type": "display_data"
    },
    {
     "data": {
      "image/png": "[encoded data removed]",
      "text/plain": [
       "<Figure size 432x288 with 1 Axes>"
      ]
     },
     "metadata": {
      "needs_background": "light"
     },
     "output_type": "display_data"
    }
   ],
   "source": [
    "pyplot.tight_layout(pad=10)\n",
    "fig, ax = pyplot.subplots()\n",
    "\n",
    "ax.boxplot([np.ravel(dmr_dist/2), np.ravel(cca_dist/2), np.ravel(lma_dist/2), np.ravel(matcher_dist/2)])\n",
    "\n",
    "# pyplot.savefig('box.svg')"
   ]
  },
  {
   "cell_type": "code",
   "execution_count": 133,
   "id": "fe4678bd-40d3-4dfd-a5bf-2de54fd8c520",
   "metadata": {},
   "outputs": [
    {
     "data": {
      "text/plain": [
       "array([0.        , 1.25945676, 1.34083307, 0.38319128, 0.707985  ,\n",
       "       1.25945676, 0.        , 1.66148935, 0.21636522, 1.09399043,\n",
       "       1.34083307, 1.66148935, 0.        , 2.26577011, 0.65117326,\n",
       "       0.38319128, 0.21636522, 2.26577011, 0.        , 1.07151924,\n",
       "       0.707985  , 1.09399043, 0.65117326, 1.07151924, 0.        ])"
      ]
     },
     "execution_count": 133,
     "metadata": {},
     "output_type": "execute_result"
    }
   ],
   "source": [
    "np.ravel(dmr_dist)"
   ]
  },
  {
   "cell_type": "code",
   "execution_count": 2,
   "id": "346cdd88-7c14-4d03-86de-12949cab598e",
   "metadata": {},
   "outputs": [
    {
     "data": {
      "image/png": "[encoded data removed]",
      "text/plain": [
       "<Figure size 432x288 with 1 Axes>"
      ]
     },
     "metadata": {},
     "output_type": "display_data"
    }
   ],
   "source": [
    "import matplotlib.pyplot as plt\n",
    "%matplotlib inline\n",
    "plt.style.use('ggplot')\n",
    "\n",
    "x = ['deepManReg', 'MATCHER', 'LMA', 'CCA']\n",
    "energy = [16, 20, 20, 24]\n",
    "\n",
    "x_pos = [i for i, _ in enumerate(x)]\n",
    "\n",
    "plt.bar(x_pos, energy, color='green')\n",
    "plt.xlabel(\"Methods\")\n",
    "plt.ylabel(\"Differrences from Original Network\")\n",
    "plt.title(\"\")\n",
    "\n",
    "plt.xticks(x_pos, x)\n",
    "plt.savefig(\"simulated.eps\")\n",
    "plt.show()\n"
   ]
  },
  {
   "cell_type": "code",
   "execution_count": null,
   "id": "5cc71e55-782b-465e-bed5-606631949962",
   "metadata": {},
   "outputs": [],
   "source": []
  }
 ],
 "metadata": {
  "kernelspec": {
   "display_name": "Python 3",
   "language": "python",
   "name": "python3"
  },
  "language_info": {
   "codemirror_mode": {
    "name": "ipython",
    "version": 3
   },
   "file_extension": ".py",
   "mimetype": "text/x-python",
   "name": "python",
   "nbconvert_exporter": "python",
   "pygments_lexer": "ipython3",
   "version": "3.8.8"
  }
 },
 "nbformat": 4,
 "nbformat_minor": 5
}

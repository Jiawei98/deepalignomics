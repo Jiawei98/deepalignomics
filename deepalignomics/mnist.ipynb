{
 "cells": [
  {
   "cell_type": "code",
   "execution_count": 25,
   "metadata": {},
   "outputs": [],
   "source": [
    "import pickle, gzip\n",
    "import numpy as np\n",
    "from sklearn.metrics.pairwise import pairwise_distances\n",
    "\n",
    "from distance import SquaredL2, L2\n",
    "from neighborhood import neighbor_graph, laplacian\n",
    "from correspondence import Correspondence\n",
    "from stiefel import *\n",
    "from kmedoids import *\n",
    "import itertools\n",
    "\n",
    "import torch\n",
    "import torch.nn as nn\n",
    "import torch.nn.functional as F\n",
    "torch.set_default_tensor_type('torch.FloatTensor')\n",
    "\n",
    "from mpl_toolkits.mplot3d import Axes3D\n",
    "import matplotlib.pyplot as plt\n",
    "\n",
    "import pdb"
   ]
  },
  {
   "cell_type": "code",
   "execution_count": 2,
   "metadata": {},
   "outputs": [],
   "source": [
    "f = gzip.open('data/mnist/mnist.pkl.gz', 'rb')\n",
    "train_set, valid_set, test_set = pickle.load(f, encoding='latin1')"
   ]
  },
  {
   "cell_type": "code",
   "execution_count": 3,
   "metadata": {},
   "outputs": [
    {
     "data": {
      "text/plain": [
       "<matplotlib.image.AxesImage at 0x23b85c20f98>"
      ]
     },
     "execution_count": 3,
     "metadata": {},
     "output_type": "execute_result"
    },
    {
     "data": {
      "image/png": "[encoded data removed]",
      "text/plain": [
       "<Figure size 432x288 with 1 Axes>"
      ]
     },
     "metadata": {
      "needs_background": "light"
     },
     "output_type": "display_data"
    }
   ],
   "source": [
    "train_set_rs = np.reshape(train_set[0], (50000, 28, 28))\n",
    "img = train_set_rs[0,:,:]\n",
    "plt.imshow(img)"
   ]
  },
  {
   "cell_type": "code",
   "execution_count": 4,
   "metadata": {},
   "outputs": [
    {
     "data": {
      "text/plain": [
       "<matplotlib.image.AxesImage at 0x23b86cc9588>"
      ]
     },
     "execution_count": 4,
     "metadata": {},
     "output_type": "execute_result"
    },
    {
     "data": {
      "image/png": "[encoded data removed]",
      "text/plain": [
       "<Figure size 432x288 with 2 Axes>"
      ]
     },
     "metadata": {
      "needs_background": "light"
     },
     "output_type": "display_data"
    }
   ],
   "source": [
    "train_label = train_set[1][0:10000]\n",
    "\n",
    "# Split each image into two halves\n",
    "train_set_left = train_set_rs[0:10000,:,0:14]\n",
    "train_set_right = train_set_rs[0:10000,:,14:]\n",
    "\n",
    "n_train = train_set_left.shape[0]\n",
    "\n",
    "plt.subplot(1,2,1)\n",
    "img = train_set_left[0,:,:]\n",
    "plt.imshow(img)\n",
    "plt.subplot(1,2,2)\n",
    "img = train_set_right[0,:,:]\n",
    "plt.imshow(img)"
   ]
  },
  {
   "cell_type": "code",
   "execution_count": 5,
   "metadata": {},
   "outputs": [],
   "source": [
    "train_set_left = np.reshape(train_set_left, (n_train, 14*28))\n",
    "train_set_right = np.reshape(train_set_right, (n_train, 14*28))"
   ]
  },
  {
   "cell_type": "code",
   "execution_count": 6,
   "metadata": {},
   "outputs": [
    {
     "name": "stdout",
     "output_type": "stream",
     "text": [
      "(10000, 392)\n",
      "(10000, 392)\n"
     ]
    }
   ],
   "source": [
    "print(train_set_left.shape)\n",
    "print(train_set_right.shape)"
   ]
  },
  {
   "cell_type": "code",
   "execution_count": 7,
   "metadata": {},
   "outputs": [],
   "source": [
    "\"\"\"Defines the neural network\"\"\"\n",
    "class Net(nn.Module):\n",
    "    def __init__(self, D_in, H1, H2, D_out):\n",
    "        super(Net, self).__init__()\n",
    "        self.linear1 = torch.nn.Linear(D_in, H1)\n",
    "        self.linear2 = torch.nn.Linear(H1, H2)\n",
    "        self.linear3 = torch.nn.Linear(H2, D_out)\n",
    "\n",
    "    def forward(self, x):\n",
    "        h1_sigmoid = self.linear1(x).sigmoid()\n",
    "        h2_sigmoid = self.linear2(h1_sigmoid).sigmoid()\n",
    "        y_pred = self.linear3(h2_sigmoid)\n",
    "        return y_pred"
   ]
  },
  {
   "cell_type": "code",
   "execution_count": 8,
   "metadata": {},
   "outputs": [],
   "source": [
    "def train_and_project(x1_np, x2_np):\n",
    "    #import pdb\n",
    "    #pdb.set_trace()\n",
    "    N, D_in1, D_in2, H1, H2, D_out = x1_np.shape[0], x1_np.shape[1], x2_np.shape[1], 512, 256, 3\n",
    "\n",
    "    model1 = Net(D_in1, H1, H2, D_out)\n",
    "    model2 = Net(D_in2, H1, H2, D_out)\n",
    "\n",
    "    x1 = torch.from_numpy(x1_np.astype(np.float32))\n",
    "    x2 = torch.from_numpy(x2_np.astype(np.float32))\n",
    "    print(x1.dtype)\n",
    "    #%store x1\n",
    "    #%store x2\n",
    "    \n",
    "    #pdb.set_trace()\n",
    "    \n",
    "    adj1 = neighbor_graph(x1_np, k=5)\n",
    "    adj2 = neighbor_graph(x2_np, k=5)\n",
    "\n",
    "    corr = Correspondence(matrix=np.eye(N))\n",
    "    \n",
    "    w = np.block([[corr.matrix(),adj1],\n",
    "              [adj2, corr.matrix()]])\n",
    "\n",
    "    L_np, D_np = laplacian(w, normed=True, return_diag=True)\n",
    "    L = torch.from_numpy(L_np.astype(np.float32))\n",
    "    \n",
    "    params = list(model1.parameters()) + list(model2.parameters())\n",
    "    optimizer = torch.optim.Adam(params, lr = 0.00001)\n",
    "    \n",
    "    for t in range(200):\n",
    "        # Forward pass: Compute predicted y by passing x to the model\n",
    "        y1_pred = model1(x1)\n",
    "        y2_pred = model2(x2)\n",
    "\n",
    "        outputs = torch.cat((y1_pred, y2_pred), 0)\n",
    "\n",
    "        # Project the output onto Stiefel Manifold\n",
    "        u, s, v = torch.svd(outputs, some=True)\n",
    "        proj_outputs = u@v.t()\n",
    "\n",
    "        # Compute and print loss\n",
    "        loss = torch.trace(proj_outputs.t()@L@proj_outputs)\n",
    "        if (t % 2 == 1):\n",
    "            print(t, loss.item())\n",
    "\n",
    "        # Zero gradients, perform a backward pass, and update the weights.\n",
    "        proj_outputs.retain_grad()\n",
    "\n",
    "        optimizer.zero_grad()\n",
    "        loss.backward(retain_graph=True)\n",
    "\n",
    "        # Project the (Euclidean) gradient onto the tangent space of Stiefel Manifold (to get Rimannian gradient)\n",
    "        rgrad = proj_stiefel(proj_outputs, proj_outputs.grad)\n",
    "        grd = torch.norm(rgrad)\n",
    "        if (t % 2 == 1):\n",
    "            print(torch.norm(rgrad))\n",
    "\n",
    "        optimizer.zero_grad()\n",
    "        # Backpropogate the Rimannian gradient w.r.t proj_outputs\n",
    "        proj_outputs.backward(rgrad)\n",
    "\n",
    "        optimizer.step()\n",
    "        \n",
    "    proj_outputs_np = proj_outputs.detach().numpy()\n",
    "    return proj_outputs_np\n",
    "    "
   ]
  },
  {
   "cell_type": "code",
   "execution_count": 9,
   "metadata": {},
   "outputs": [
    {
     "name": "stdout",
     "output_type": "stream",
     "text": [
      "torch.float32\n",
      "1 2.9800167083740234\n",
      "tensor(1.4705, grad_fn=<NormBackward0>)\n",
      "3 2.8732478618621826\n",
      "tensor(1.4771, grad_fn=<NormBackward0>)\n",
      "5 2.776060104370117\n",
      "tensor(1.4663, grad_fn=<NormBackward0>)\n",
      "7 2.692843437194824\n",
      "tensor(1.4440, grad_fn=<NormBackward0>)\n",
      "9 2.6239545345306396\n",
      "tensor(1.4160, grad_fn=<NormBackward0>)\n",
      "11 2.567401885986328\n",
      "tensor(1.3860, grad_fn=<NormBackward0>)\n",
      "13 2.5206124782562256\n",
      "tensor(1.3560, grad_fn=<NormBackward0>)\n",
      "15 2.4813618659973145\n",
      "tensor(1.3267, grad_fn=<NormBackward0>)\n",
      "17 2.447942018508911\n",
      "tensor(1.2987, grad_fn=<NormBackward0>)\n",
      "19 2.419044017791748\n",
      "tensor(1.2717, grad_fn=<NormBackward0>)\n",
      "21 2.393662452697754\n",
      "tensor(1.2457, grad_fn=<NormBackward0>)\n",
      "23 2.3710646629333496\n",
      "tensor(1.2202, grad_fn=<NormBackward0>)\n",
      "25 2.3507590293884277\n",
      "tensor(1.1952, grad_fn=<NormBackward0>)\n",
      "27 2.3324501514434814\n",
      "tensor(1.1708, grad_fn=<NormBackward0>)\n",
      "29 2.3159544467926025\n",
      "tensor(1.1473, grad_fn=<NormBackward0>)\n",
      "31 2.301154613494873\n",
      "tensor(1.1250, grad_fn=<NormBackward0>)\n",
      "33 2.287928819656372\n",
      "tensor(1.1042, grad_fn=<NormBackward0>)\n",
      "35 2.276141405105591\n",
      "tensor(1.0850, grad_fn=<NormBackward0>)\n",
      "37 2.265639305114746\n",
      "tensor(1.0674, grad_fn=<NormBackward0>)\n",
      "39 2.2562506198883057\n",
      "tensor(1.0515, grad_fn=<NormBackward0>)\n",
      "41 2.247819185256958\n",
      "tensor(1.0369, grad_fn=<NormBackward0>)\n",
      "43 2.2401957511901855\n",
      "tensor(1.0236, grad_fn=<NormBackward0>)\n",
      "45 2.2332608699798584\n",
      "tensor(1.0113, grad_fn=<NormBackward0>)\n",
      "47 2.2269201278686523\n",
      "tensor(1.0000, grad_fn=<NormBackward0>)\n",
      "49 2.2210943698883057\n",
      "tensor(0.9894, grad_fn=<NormBackward0>)\n",
      "51 2.215718984603882\n",
      "tensor(0.9795, grad_fn=<NormBackward0>)\n",
      "53 2.2107467651367188\n",
      "tensor(0.9702, grad_fn=<NormBackward0>)\n",
      "55 2.206131935119629\n",
      "tensor(0.9614, grad_fn=<NormBackward0>)\n",
      "57 2.201841115951538\n",
      "tensor(0.9531, grad_fn=<NormBackward0>)\n",
      "59 2.1978414058685303\n",
      "tensor(0.9453, grad_fn=<NormBackward0>)\n",
      "61 2.1941077709198\n",
      "tensor(0.9378, grad_fn=<NormBackward0>)\n",
      "63 2.1906192302703857\n",
      "tensor(0.9308, grad_fn=<NormBackward0>)\n",
      "65 2.1873550415039062\n",
      "tensor(0.9241, grad_fn=<NormBackward0>)\n",
      "67 2.184295654296875\n",
      "tensor(0.9177, grad_fn=<NormBackward0>)\n",
      "69 2.181422710418701\n",
      "tensor(0.9116, grad_fn=<NormBackward0>)\n",
      "71 2.1787209510803223\n",
      "tensor(0.9059, grad_fn=<NormBackward0>)\n",
      "73 2.1761763095855713\n",
      "tensor(0.9004, grad_fn=<NormBackward0>)\n",
      "75 2.1737735271453857\n",
      "tensor(0.8951, grad_fn=<NormBackward0>)\n",
      "77 2.171502113342285\n",
      "tensor(0.8901, grad_fn=<NormBackward0>)\n",
      "79 2.1693508625030518\n",
      "tensor(0.8853, grad_fn=<NormBackward0>)\n",
      "81 2.1673130989074707\n",
      "tensor(0.8808, grad_fn=<NormBackward0>)\n",
      "83 2.165377378463745\n",
      "tensor(0.8764, grad_fn=<NormBackward0>)\n",
      "85 2.1635355949401855\n",
      "tensor(0.8722, grad_fn=<NormBackward0>)\n",
      "87 2.1617867946624756\n",
      "tensor(0.8682, grad_fn=<NormBackward0>)\n",
      "89 2.1601223945617676\n",
      "tensor(0.8643, grad_fn=<NormBackward0>)\n",
      "91 2.158535957336426\n",
      "tensor(0.8606, grad_fn=<NormBackward0>)\n",
      "93 2.1570212841033936\n",
      "tensor(0.8571, grad_fn=<NormBackward0>)\n",
      "95 2.1555778980255127\n",
      "tensor(0.8537, grad_fn=<NormBackward0>)\n",
      "97 2.1541945934295654\n",
      "tensor(0.8504, grad_fn=<NormBackward0>)\n",
      "99 2.152874708175659\n",
      "tensor(0.8473, grad_fn=<NormBackward0>)\n",
      "101 2.15160870552063\n",
      "tensor(0.8443, grad_fn=<NormBackward0>)\n",
      "103 2.150397300720215\n",
      "tensor(0.8414, grad_fn=<NormBackward0>)\n",
      "105 2.1492326259613037\n",
      "tensor(0.8387, grad_fn=<NormBackward0>)\n",
      "107 2.1481175422668457\n",
      "tensor(0.8360, grad_fn=<NormBackward0>)\n",
      "109 2.1470441818237305\n",
      "tensor(0.8335, grad_fn=<NormBackward0>)\n",
      "111 2.1460142135620117\n",
      "tensor(0.8310, grad_fn=<NormBackward0>)\n",
      "113 2.1450228691101074\n",
      "tensor(0.8286, grad_fn=<NormBackward0>)\n",
      "115 2.144066572189331\n",
      "tensor(0.8264, grad_fn=<NormBackward0>)\n",
      "117 2.143146514892578\n",
      "tensor(0.8242, grad_fn=<NormBackward0>)\n",
      "119 2.142259359359741\n",
      "tensor(0.8221, grad_fn=<NormBackward0>)\n",
      "121 2.1414036750793457\n",
      "tensor(0.8200, grad_fn=<NormBackward0>)\n",
      "123 2.1405770778656006\n",
      "tensor(0.8181, grad_fn=<NormBackward0>)\n",
      "125 2.139780044555664\n",
      "tensor(0.8162, grad_fn=<NormBackward0>)\n",
      "127 2.1390089988708496\n",
      "tensor(0.8143, grad_fn=<NormBackward0>)\n",
      "129 2.138263463973999\n",
      "tensor(0.8125, grad_fn=<NormBackward0>)\n",
      "131 2.1375410556793213\n",
      "tensor(0.8108, grad_fn=<NormBackward0>)\n",
      "133 2.1368417739868164\n",
      "tensor(0.8092, grad_fn=<NormBackward0>)\n",
      "135 2.1361658573150635\n",
      "tensor(0.8075, grad_fn=<NormBackward0>)\n",
      "137 2.135507345199585\n",
      "tensor(0.8060, grad_fn=<NormBackward0>)\n",
      "139 2.134871482849121\n",
      "tensor(0.8045, grad_fn=<NormBackward0>)\n",
      "141 2.13425350189209\n",
      "tensor(0.8030, grad_fn=<NormBackward0>)\n",
      "143 2.133655309677124\n",
      "tensor(0.8016, grad_fn=<NormBackward0>)\n",
      "145 2.133070707321167\n",
      "tensor(0.8002, grad_fn=<NormBackward0>)\n",
      "147 2.1325058937072754\n",
      "tensor(0.7989, grad_fn=<NormBackward0>)\n",
      "149 2.1319546699523926\n",
      "tensor(0.7976, grad_fn=<NormBackward0>)\n",
      "151 2.1314196586608887\n",
      "tensor(0.7963, grad_fn=<NormBackward0>)\n",
      "153 2.1308987140655518\n",
      "tensor(0.7951, grad_fn=<NormBackward0>)\n",
      "155 2.1303913593292236\n",
      "tensor(0.7939, grad_fn=<NormBackward0>)\n",
      "157 2.129899501800537\n",
      "tensor(0.7927, grad_fn=<NormBackward0>)\n",
      "159 2.129418134689331\n",
      "tensor(0.7916, grad_fn=<NormBackward0>)\n",
      "161 2.128948450088501\n",
      "tensor(0.7905, grad_fn=<NormBackward0>)\n",
      "163 2.128491163253784\n",
      "tensor(0.7894, grad_fn=<NormBackward0>)\n",
      "165 2.128047227859497\n",
      "tensor(0.7884, grad_fn=<NormBackward0>)\n",
      "167 2.127610921859741\n",
      "tensor(0.7874, grad_fn=<NormBackward0>)\n",
      "169 2.127185583114624\n",
      "tensor(0.7864, grad_fn=<NormBackward0>)\n",
      "171 2.1267707347869873\n",
      "tensor(0.7854, grad_fn=<NormBackward0>)\n",
      "173 2.126366138458252\n",
      "tensor(0.7845, grad_fn=<NormBackward0>)\n",
      "175 2.125969409942627\n",
      "tensor(0.7836, grad_fn=<NormBackward0>)\n",
      "177 2.1255836486816406\n",
      "tensor(0.7827, grad_fn=<NormBackward0>)\n",
      "179 2.125204563140869\n",
      "tensor(0.7818, grad_fn=<NormBackward0>)\n",
      "181 2.124833583831787\n",
      "tensor(0.7810, grad_fn=<NormBackward0>)\n",
      "183 2.1244709491729736\n",
      "tensor(0.7802, grad_fn=<NormBackward0>)\n",
      "185 2.124117612838745\n",
      "tensor(0.7794, grad_fn=<NormBackward0>)\n",
      "187 2.1237711906433105\n",
      "tensor(0.7786, grad_fn=<NormBackward0>)\n",
      "189 2.1234326362609863\n",
      "tensor(0.7778, grad_fn=<NormBackward0>)\n",
      "191 2.123100757598877\n",
      "tensor(0.7771, grad_fn=<NormBackward0>)\n",
      "193 2.122772455215454\n",
      "tensor(0.7764, grad_fn=<NormBackward0>)\n",
      "195 2.1224536895751953\n",
      "tensor(0.7756, grad_fn=<NormBackward0>)\n",
      "197 2.1221396923065186\n",
      "tensor(0.7749, grad_fn=<NormBackward0>)\n",
      "199 2.1218338012695312\n",
      "tensor(0.7743, grad_fn=<NormBackward0>)\n"
     ]
    }
   ],
   "source": [
    "projections = train_and_project(train_set_left, train_set_right)\n"
   ]
  },
  {
   "cell_type": "code",
   "execution_count": 27,
   "metadata": {},
   "outputs": [
    {
     "data": {
      "text/plain": [
       "<mpl_toolkits.mplot3d.art3d.Path3DCollection at 0x23b92f00978>"
      ]
     },
     "execution_count": 27,
     "metadata": {},
     "output_type": "execute_result"
    },
    {
     "data": {
      "image/png": "[encoded data removed]",
      "text/plain": [
       "<Figure size 432x288 with 1 Axes>"
      ]
     },
     "metadata": {
      "needs_background": "light"
     },
     "output_type": "display_data"
    }
   ],
   "source": [
    "fig = plt.figure()\n",
    "ax = fig.add_subplot(111, projection='3d')\n",
    "ax.scatter(projections[0:1000,0],projections[0:1000,1], projections[0:1000,2], color='r')\n",
    "ax.scatter(projections[10000:11000,0],projections[10000:11000,1], projections[10000:11000,2], color='b')"
   ]
  },
  {
   "cell_type": "code",
   "execution_count": 22,
   "metadata": {},
   "outputs": [
    {
     "data": {
      "text/plain": [
       "array([[-4.92857117e-03,  7.06438860e-03, -5.22912387e-03],\n",
       "       [-1.71457361e-02,  4.46996745e-03, -2.44429056e-03],\n",
       "       [-2.17904366e-04,  8.43742117e-03, -6.57239696e-03],\n",
       "       [ 8.00152484e-04,  8.21551494e-03, -6.59706490e-03],\n",
       "       [ 5.02154604e-03,  9.13021248e-03, -7.53740175e-03],\n",
       "       [-7.66164484e-03,  6.58277655e-03, -4.65891324e-03],\n",
       "       [ 6.44644070e-03,  9.51084495e-03, -7.90898968e-03],\n",
       "       [-1.25187067e-02,  5.55485394e-03, -3.62540642e-03],\n",
       "       [ 9.57869273e-03,  1.01387510e-02, -8.51417892e-03],\n",
       "       [-2.14876072e-03,  8.04699957e-03, -6.16245857e-03],\n",
       "       [-1.94022420e-03,  7.63240829e-03, -5.94787812e-03],\n",
       "       [-9.16939462e-04,  7.98627455e-03, -6.25155354e-03],\n",
       "       [-1.87274872e-03,  7.97264092e-03, -6.23260392e-03],\n",
       "       [-2.53685191e-03,  7.88229331e-03, -5.91660431e-03],\n",
       "       [ 1.03998696e-02,  1.02300635e-02, -8.69916286e-03],\n",
       "       [-3.29446769e-03,  7.60627631e-03, -5.72825270e-03],\n",
       "       [-5.84075600e-03,  7.23010488e-03, -5.20216580e-03],\n",
       "       [-3.41133238e-03,  7.20694475e-03, -5.56159671e-03],\n",
       "       [ 7.19625968e-04,  8.28122534e-03, -6.53718272e-03],\n",
       "       [ 1.95354503e-03,  8.52322485e-03, -6.82457350e-03],\n",
       "       [-5.67366462e-03,  7.24548707e-03, -5.36535541e-03],\n",
       "       [-1.78141855e-02,  4.20098333e-03, -2.28705769e-03],\n",
       "       [ 7.38638511e-04,  8.33528582e-03, -6.60039205e-03],\n",
       "       [ 6.43244653e-04,  8.19718186e-03, -6.59959530e-03],\n",
       "       [-3.46832187e-03,  7.21423095e-03, -5.55088371e-03],\n",
       "       [-1.49108181e-02,  4.91696224e-03, -3.06791603e-03],\n",
       "       [ 4.83889272e-03,  9.27433558e-03, -7.62070902e-03],\n",
       "       [-1.48788793e-02,  5.10273734e-03, -3.18133831e-03],\n",
       "       [-7.57037103e-03,  6.67745015e-03, -4.80542285e-03],\n",
       "       [ 1.63917663e-03,  8.62599444e-03, -6.91264588e-03],\n",
       "       [ 6.70986075e-04,  8.33858270e-03, -6.71559805e-03],\n",
       "       [-9.33615025e-03,  5.87111944e-03, -4.19025356e-03],\n",
       "       [ 1.95344933e-03,  8.95600952e-03, -6.95101265e-03],\n",
       "       [-2.65396154e-03,  7.53826043e-03, -5.82181336e-03],\n",
       "       [-1.38464291e-02,  5.12696709e-03, -3.20425094e-03],\n",
       "       [-2.41545634e-03,  7.54422322e-03, -5.90306288e-03],\n",
       "       [-2.70893425e-03,  7.80183589e-03, -5.91224805e-03],\n",
       "       [-1.55232670e-02,  4.74867225e-03, -2.79361079e-03],\n",
       "       [ 6.23930537e-04,  8.58730264e-03, -6.77480921e-03],\n",
       "       [-2.28521205e-03,  7.87171535e-03, -5.88489603e-03],\n",
       "       [ 5.84321050e-03,  9.10866540e-03, -7.57944630e-03],\n",
       "       [-6.35703374e-03,  6.63401978e-03, -4.94156824e-03],\n",
       "       [ 4.15373733e-03,  8.89029540e-03, -7.29538267e-03],\n",
       "       [ 1.97591493e-04,  8.05673562e-03, -6.38988195e-03],\n",
       "       [ 6.44069491e-03,  9.49469768e-03, -7.89198093e-03],\n",
       "       [ 3.28729293e-05,  7.96387251e-03, -6.32536877e-03],\n",
       "       [ 1.10626733e-03,  8.31719302e-03, -6.65719947e-03],\n",
       "       [-6.70131715e-03,  6.80619292e-03, -5.00915153e-03],\n",
       "       [ 6.44515082e-03,  9.47036222e-03, -7.95035344e-03],\n",
       "       [-9.65921395e-03,  5.85777871e-03, -4.22134018e-03],\n",
       "       [-7.22028781e-05,  8.17070808e-03, -6.41726097e-03],\n",
       "       [-2.23020650e-02,  3.52528458e-03, -1.41820742e-03],\n",
       "       [-3.11569544e-03,  7.59913167e-03, -5.70918527e-03],\n",
       "       [ 2.88282498e-03,  8.77894834e-03, -7.12906802e-03],\n",
       "       [-1.09555185e-04,  8.19848198e-03, -6.43104874e-03],\n",
       "       [-6.47706306e-03,  6.86029997e-03, -5.01147099e-03],\n",
       "       [-1.32702366e-02,  5.31269237e-03, -3.46122961e-03],\n",
       "       [-5.68535994e-04,  8.05494189e-03, -6.30247360e-03],\n",
       "       [-2.11787969e-03,  7.91268237e-03, -6.15240075e-03],\n",
       "       [-8.71961820e-04,  7.79577205e-03, -6.20340742e-03],\n",
       "       [-1.20670451e-02,  5.98749379e-03, -3.90924094e-03],\n",
       "       [ 2.41594994e-03,  8.68265424e-03, -7.04527041e-03],\n",
       "       [-2.06490094e-03,  7.75642646e-03, -5.97323338e-03],\n",
       "       [-1.81246046e-02,  4.09517018e-03, -2.18810211e-03],\n",
       "       [-2.83605885e-03,  8.08046665e-03, -6.01753453e-03],\n",
       "       [-8.25851166e-04,  7.86114205e-03, -6.19952520e-03],\n",
       "       [-5.24205295e-03,  6.98738173e-03, -5.05643338e-03],\n",
       "       [ 3.82713182e-03,  8.72121286e-03, -7.21223326e-03],\n",
       "       [-8.20870232e-03,  6.17293967e-03, -4.53172810e-03],\n",
       "       [-1.01108430e-02,  6.00371929e-03, -4.12406866e-03],\n",
       "       [ 1.33299059e-03,  8.39085039e-03, -6.60384633e-03],\n",
       "       [-1.61966600e-03,  7.87748024e-03, -6.10675709e-03],\n",
       "       [ 7.65959965e-03,  9.62279830e-03, -8.05943459e-03],\n",
       "       [-3.76780401e-03,  7.35783391e-03, -5.51498262e-03],\n",
       "       [ 2.33488181e-03,  8.60112533e-03, -6.94063446e-03],\n",
       "       [-1.26303369e-02,  5.31591661e-03, -3.43448925e-03],\n",
       "       [-6.75585907e-05,  7.96815380e-03, -6.42454810e-03],\n",
       "       [ 8.91263306e-04,  8.06432217e-03, -6.55258773e-03],\n",
       "       [ 1.07643171e-03,  8.30853451e-03, -6.71650702e-03],\n",
       "       [-1.42763613e-03,  7.92915188e-03, -6.19037170e-03],\n",
       "       [-4.43872996e-03,  7.23835221e-03, -5.48711885e-03],\n",
       "       [-1.22315008e-02,  5.44804567e-03, -3.53074889e-03],\n",
       "       [-7.44655728e-03,  7.06758164e-03, -4.95216623e-03],\n",
       "       [-6.14085002e-03,  7.05747167e-03, -5.07021416e-03],\n",
       "       [ 2.55774544e-03,  8.63460079e-03, -6.92432560e-03],\n",
       "       [-3.82064353e-03,  7.26239709e-03, -5.55262016e-03],\n",
       "       [ 5.55492751e-03,  9.40350164e-03, -7.77997449e-03],\n",
       "       [-3.92355025e-03,  7.39999814e-03, -5.57750929e-03],\n",
       "       [-1.43695027e-02,  5.28758345e-03, -3.26551381e-03],\n",
       "       [-3.00397840e-03,  7.85740465e-03, -5.94140636e-03],\n",
       "       [-6.16867142e-03,  7.08691403e-03, -5.05288178e-03],\n",
       "       [-2.28663278e-03,  7.70736439e-03, -5.88669209e-03],\n",
       "       [ 7.63698423e-04,  8.49132705e-03, -6.73574442e-03],\n",
       "       [-1.76312844e-03,  7.86281191e-03, -5.97788487e-03],\n",
       "       [-3.26039270e-04,  8.05010647e-03, -6.32973341e-03],\n",
       "       [-1.23190796e-02,  5.45522384e-03, -3.51154804e-03],\n",
       "       [ 1.04164460e-03,  8.30719899e-03, -6.62899157e-03],\n",
       "       [-2.93663424e-03,  7.58949481e-03, -5.77142555e-03],\n",
       "       [ 2.14914815e-03,  8.64105299e-03, -6.98667392e-03],\n",
       "       [ 3.12533276e-03,  8.79822671e-03, -7.15924846e-03]], dtype=float32)"
      ]
     },
     "execution_count": 22,
     "metadata": {},
     "output_type": "execute_result"
    }
   ],
   "source": [
    "projections[10000:10100,:]"
   ]
  },
  {
   "cell_type": "code",
   "execution_count": 32,
   "metadata": {},
   "outputs": [],
   "source": [
    "x1 = projections[0:10000,:]\n",
    "x2 = projections[10000:,:]\n",
    "cov12 = np.cov(x1.T,x2.T)\n",
    "cov11 = np.cov(x1.T)\n",
    "cov22 = np.cov(x2.T)"
   ]
  },
  {
   "cell_type": "code",
   "execution_count": 37,
   "metadata": {},
   "outputs": [
    {
     "name": "stdout",
     "output_type": "stream",
     "text": [
      "0.3107734\n"
     ]
    }
   ],
   "source": [
    "print(np.trace(np.dot(x1.T, x2))/ (np.linalg.norm(x1, ord='fro')*np.linalg.norm(x2, ord='fro')))"
   ]
  },
  {
   "cell_type": "code",
   "execution_count": null,
   "metadata": {},
   "outputs": [],
   "source": []
  }
 ],
 "metadata": {
  "kernelspec": {
   "display_name": "Python 3",
   "language": "python",
   "name": "python3"
  },
  "language_info": {
   "codemirror_mode": {
    "name": "ipython",
    "version": 3
   },
   "file_extension": ".py",
   "mimetype": "text/x-python",
   "name": "python",
   "nbconvert_exporter": "python",
   "pygments_lexer": "ipython3",
   "version": "3.7.1"
  }
 },
 "nbformat": 4,
 "nbformat_minor": 2
}
